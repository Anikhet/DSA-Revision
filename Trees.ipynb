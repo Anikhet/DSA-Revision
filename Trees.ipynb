{
 "cells": [
  {
   "attachments": {},
   "cell_type": "markdown",
   "metadata": {},
   "source": [
    "# Tree\n",
    "## Non-linear data structure\n",
    "## Data stored in heirarchy\n",
    "\n",
    "Traversals\n",
    "Preorder\n",
    "Inorder\n",
    "Postorder\n",
    "Level order traversal (BFS)\n",
    "Depth order traversal (DFS)\n",
    "Binary Search Trees:\n",
    "* Binary search tree is a binary tree where each node has at most two children.\n",
    "* The left child of the root node contains only nodes with keys less than or equal to that of its parent, and similarly for right subtree.\n",
    "\n"
   ]
  },
  {
   "cell_type": "code",
   "execution_count": null,
   "metadata": {},
   "outputs": [],
   "source": []
  }
 ],
 "metadata": {
  "kernelspec": {
   "display_name": "Python 3",
   "language": "python",
   "name": "python3"
  },
  "language_info": {
   "name": "python",
   "version": "3.10.6 (v3.10.6:9c7b4bd164, Aug  1 2022, 17:13:48) [Clang 13.0.0 (clang-1300.0.29.30)]"
  },
  "orig_nbformat": 4,
  "vscode": {
   "interpreter": {
    "hash": "aee8b7b246df8f9039afb4144a1f6fd8d2ca17a180786b69acc140d282b71a49"
   }
  }
 },
 "nbformat": 4,
 "nbformat_minor": 2
}
